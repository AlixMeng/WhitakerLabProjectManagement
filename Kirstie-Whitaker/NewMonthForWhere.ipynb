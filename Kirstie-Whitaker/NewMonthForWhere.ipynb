{
 "cells": [
  {
   "cell_type": "markdown",
   "metadata": {},
   "source": [
    "# Make a new month template for Kirstie's where.md file"
   ]
  },
  {
   "cell_type": "code",
   "execution_count": 1,
   "metadata": {
    "collapsed": true
   },
   "outputs": [],
   "source": [
    "def get_day_dict():\n",
    "    \n",
    "    day_dict = { 'Mon'   : (':uk: London, UK', 'Working at Turing Institute'),\n",
    "                 'Tue'   : (':mortar_board: Cambridge, UK', 'Working in Cambridge'),\n",
    "                 'Wed'   : (':uk: London, UK', 'Working at Turing Institute'),\n",
    "                 'Thurs' : (':uk: London, UK', 'Working at Turing Institute'),\n",
    "                 'Fri'   : (':uk: London, UK', 'Working at Turing Institute'),\n",
    "                 'Sat'   : (':dog: Deeping, UK', 'Weekend relaxing'),\n",
    "                 'Sun'   : (':dog: Deeping, UK', 'Weekend relaxing') }\n",
    "\n",
    "    return day_dict\n",
    "\n",
    "def get_day_list():\n",
    "    \n",
    "    day_list = [ 'Mon', 'Tue', 'Wed', 'Thurs', 'Fri', 'Sat', 'Sun' ]\n",
    "    \n",
    "    return day_list"
   ]
  },
  {
   "cell_type": "code",
   "execution_count": 2,
   "metadata": {},
   "outputs": [],
   "source": [
    "def new_month(first_day='Mon'):\n",
    "    \n",
    "    day_dict = get_day_dict()\n",
    "    \n",
    "    day_list = get_day_list()\n",
    "\n",
    "    # Figure out where to start the days for that month\n",
    "    day_counter = day_list.index(first_day)\n",
    "\n",
    "    first_line = 'Date | Day   | City, Country                | Event'\n",
    "    print (first_line)\n",
    "    \n",
    "    second_line = '---- | ----- | ---------------------------- | -----'\n",
    "    print (second_line)\n",
    "    \n",
    "    remaining_lines_list = []\n",
    "    \n",
    "    for i in range(31):\n",
    "        \n",
    "        day_counter = day_counter%7\n",
    "        \n",
    "        day = day_list[day_counter]\n",
    "        location = day_dict[day][0]\n",
    "        event = day_dict[day][1]\n",
    "        \n",
    "        row = '{:<4} | {:<5} | {:<28} | {:<30}'.format(i+1, day, location, event)\n",
    "        \n",
    "        print(row)\n",
    "        \n",
    "        remaining_lines_list += row\n",
    "        \n",
    "        # Step the day counter up by one\n",
    "        # before running the next loop\n",
    "        day_counter = day_counter+1\n"
   ]
  },
  {
   "cell_type": "code",
   "execution_count": 3,
   "metadata": {},
   "outputs": [
    {
     "name": "stdout",
     "output_type": "stream",
     "text": [
      "Date | Day   | City, Country                | Event\n",
      "---- | ----- | ---------------------------- | -----\n",
      "1    | Mon   | :uk: London, UK              | Working at Turing Institute   \n",
      "2    | Tue   | :mortar_board: Cambridge, UK | Working in Cambridge          \n",
      "3    | Wed   | :uk: London, UK              | Working at Turing Institute   \n",
      "4    | Thurs | :uk: London, UK              | Working at Turing Institute   \n",
      "5    | Fri   | :uk: London, UK              | Working at Turing Institute   \n",
      "6    | Sat   | :dog: Deeping, UK            | Weekend relaxing              \n",
      "7    | Sun   | :dog: Deeping, UK            | Weekend relaxing              \n",
      "8    | Mon   | :uk: London, UK              | Working at Turing Institute   \n",
      "9    | Tue   | :mortar_board: Cambridge, UK | Working in Cambridge          \n",
      "10   | Wed   | :uk: London, UK              | Working at Turing Institute   \n",
      "11   | Thurs | :uk: London, UK              | Working at Turing Institute   \n",
      "12   | Fri   | :uk: London, UK              | Working at Turing Institute   \n",
      "13   | Sat   | :dog: Deeping, UK            | Weekend relaxing              \n",
      "14   | Sun   | :dog: Deeping, UK            | Weekend relaxing              \n",
      "15   | Mon   | :uk: London, UK              | Working at Turing Institute   \n",
      "16   | Tue   | :mortar_board: Cambridge, UK | Working in Cambridge          \n",
      "17   | Wed   | :uk: London, UK              | Working at Turing Institute   \n",
      "18   | Thurs | :uk: London, UK              | Working at Turing Institute   \n",
      "19   | Fri   | :uk: London, UK              | Working at Turing Institute   \n",
      "20   | Sat   | :dog: Deeping, UK            | Weekend relaxing              \n",
      "21   | Sun   | :dog: Deeping, UK            | Weekend relaxing              \n",
      "22   | Mon   | :uk: London, UK              | Working at Turing Institute   \n",
      "23   | Tue   | :mortar_board: Cambridge, UK | Working in Cambridge          \n",
      "24   | Wed   | :uk: London, UK              | Working at Turing Institute   \n",
      "25   | Thurs | :uk: London, UK              | Working at Turing Institute   \n",
      "26   | Fri   | :uk: London, UK              | Working at Turing Institute   \n",
      "27   | Sat   | :dog: Deeping, UK            | Weekend relaxing              \n",
      "28   | Sun   | :dog: Deeping, UK            | Weekend relaxing              \n",
      "29   | Mon   | :uk: London, UK              | Working at Turing Institute   \n",
      "30   | Tue   | :mortar_board: Cambridge, UK | Working in Cambridge          \n",
      "31   | Wed   | :uk: London, UK              | Working at Turing Institute   \n"
     ]
    }
   ],
   "source": [
    "new_month('Mon')"
   ]
  },
  {
   "cell_type": "code",
   "execution_count": null,
   "metadata": {
    "collapsed": true
   },
   "outputs": [],
   "source": []
  },
  {
   "cell_type": "code",
   "execution_count": null,
   "metadata": {
    "collapsed": true
   },
   "outputs": [],
   "source": []
  },
  {
   "cell_type": "code",
   "execution_count": null,
   "metadata": {
    "collapsed": true
   },
   "outputs": [],
   "source": []
  }
 ],
 "metadata": {
  "kernelspec": {
   "display_name": "Python 3",
   "language": "python",
   "name": "python3"
  },
  "language_info": {
   "codemirror_mode": {
    "name": "ipython",
    "version": 3
   },
   "file_extension": ".py",
   "mimetype": "text/x-python",
   "name": "python",
   "nbconvert_exporter": "python",
   "pygments_lexer": "ipython3",
   "version": "3.6.0"
  }
 },
 "nbformat": 4,
 "nbformat_minor": 2
}
