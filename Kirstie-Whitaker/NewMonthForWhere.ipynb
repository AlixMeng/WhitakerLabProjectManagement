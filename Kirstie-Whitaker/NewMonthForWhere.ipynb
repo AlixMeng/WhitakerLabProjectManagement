{
 "cells": [
  {
   "cell_type": "markdown",
   "metadata": {},
   "source": [
    "# Make a new month template for Kirstie's where.md file"
   ]
  },
  {
   "cell_type": "code",
   "execution_count": 1,
   "metadata": {
    "collapsed": true
   },
   "outputs": [],
   "source": [
    "def get_day_dict():\n",
    "    \n",
    "    day_dict = { 'Mon'   : (':uk: London, UK', 'Working at Turing Institute'),\n",
    "                 'Tue'   : (':mortar_board: Cambridge, UK', 'Working in Cambridge'),\n",
    "                 'Wed'   : (':uk: London, UK', 'Working at Turing Institute'),\n",
    "                 'Thurs' : (':uk: London, UK', 'Working at Turing Institute'),\n",
    "                 'Fri'   : (':uk: London, UK', 'Working at Turing Institute'),\n",
    "                 'Sat'   : (':dog: Deeping, UK', 'Weekend relaxing'),\n",
    "                 'Sun'   : (':dog: Deeping, UK', 'Weekend relaxing') }\n",
    "\n",
    "    return day_dict\n",
    "\n",
    "def get_day_list():\n",
    "    \n",
    "    day_list = [ 'Mon', 'Tue', 'Wed', 'Thurs', 'Fri', 'Sat', 'Sun' ]\n",
    "    \n",
    "    return day_list"
   ]
  },
  {
   "cell_type": "code",
   "execution_count": 2,
   "metadata": {
    "collapsed": true
   },
   "outputs": [],
   "source": [
    "def new_month(first_day='Mon'):\n",
    "    \n",
    "    day_dict = get_day_dict()\n",
    "    \n",
    "    day_list = get_day_list()\n",
    "\n",
    "    # Figure out where to start the days for that month\n",
    "    day_counter = day_list.index(first_day)\n",
    "\n",
    "    first_line = 'Date | Day   | City, Country                | Event'\n",
    "    print (first_line)\n",
    "    \n",
    "    second_line = '---- | ----- | ---------------------------- | -----'\n",
    "    print (second_line)\n",
    "    \n",
    "    remaining_lines_list = []\n",
    "    \n",
    "    for i in range(31):\n",
    "        \n",
    "        day_counter = day_counter%7\n",
    "        \n",
    "        day = day_list[day_counter]\n",
    "        location = day_dict[day][0]\n",
    "        event = day_dict[day][1]\n",
    "        \n",
    "        row = '{:<4} | {:<5} | {:<28} | {:<30}'.format(i+1, day, location, event)\n",
    "        \n",
    "        print(row)\n",
    "        \n",
    "        remaining_lines_list += row\n",
    "        \n",
    "        # Step the day counter up by one\n",
    "        # before running the next loop\n",
    "        day_counter = day_counter+1\n"
   ]
  },
  {
   "cell_type": "code",
   "execution_count": 3,
   "metadata": {},
   "outputs": [
    {
     "name": "stdout",
     "output_type": "stream",
     "text": [
      "Date | Day   | City, Country                | Event\n",
      "---- | ----- | ---------------------------- | -----\n",
      "1    | Wed   | :uk: London, UK              | Working at Turing Institute   \n",
      "2    | Thurs | :uk: London, UK              | Working at Turing Institute   \n",
      "3    | Fri   | :uk: London, UK              | Working at Turing Institute   \n",
      "4    | Sat   | :dog: Deeping, UK            | Weekend relaxing              \n",
      "5    | Sun   | :dog: Deeping, UK            | Weekend relaxing              \n",
      "6    | Mon   | :uk: London, UK              | Working at Turing Institute   \n",
      "7    | Tue   | :mortar_board: Cambridge, UK | Working in Cambridge          \n",
      "8    | Wed   | :uk: London, UK              | Working at Turing Institute   \n",
      "9    | Thurs | :uk: London, UK              | Working at Turing Institute   \n",
      "10   | Fri   | :uk: London, UK              | Working at Turing Institute   \n",
      "11   | Sat   | :dog: Deeping, UK            | Weekend relaxing              \n",
      "12   | Sun   | :dog: Deeping, UK            | Weekend relaxing              \n",
      "13   | Mon   | :uk: London, UK              | Working at Turing Institute   \n",
      "14   | Tue   | :mortar_board: Cambridge, UK | Working in Cambridge          \n",
      "15   | Wed   | :uk: London, UK              | Working at Turing Institute   \n",
      "16   | Thurs | :uk: London, UK              | Working at Turing Institute   \n",
      "17   | Fri   | :uk: London, UK              | Working at Turing Institute   \n",
      "18   | Sat   | :dog: Deeping, UK            | Weekend relaxing              \n",
      "19   | Sun   | :dog: Deeping, UK            | Weekend relaxing              \n",
      "20   | Mon   | :uk: London, UK              | Working at Turing Institute   \n",
      "21   | Tue   | :mortar_board: Cambridge, UK | Working in Cambridge          \n",
      "22   | Wed   | :uk: London, UK              | Working at Turing Institute   \n",
      "23   | Thurs | :uk: London, UK              | Working at Turing Institute   \n",
      "24   | Fri   | :uk: London, UK              | Working at Turing Institute   \n",
      "25   | Sat   | :dog: Deeping, UK            | Weekend relaxing              \n",
      "26   | Sun   | :dog: Deeping, UK            | Weekend relaxing              \n",
      "27   | Mon   | :uk: London, UK              | Working at Turing Institute   \n",
      "28   | Tue   | :mortar_board: Cambridge, UK | Working in Cambridge          \n",
      "29   | Wed   | :uk: London, UK              | Working at Turing Institute   \n",
      "30   | Thurs | :uk: London, UK              | Working at Turing Institute   \n",
      "31   | Fri   | :uk: London, UK              | Working at Turing Institute   \n"
     ]
    }
   ],
   "source": [
    "new_month('Wed')"
   ]
  },
  {
   "cell_type": "code",
   "execution_count": null,
   "metadata": {
    "collapsed": true
   },
   "outputs": [],
   "source": []
  },
  {
   "cell_type": "code",
   "execution_count": null,
   "metadata": {
    "collapsed": true
   },
   "outputs": [],
   "source": []
  },
  {
   "cell_type": "code",
   "execution_count": null,
   "metadata": {
    "collapsed": true
   },
   "outputs": [],
   "source": []
  }
 ],
 "metadata": {
  "anaconda-cloud": {},
  "kernelspec": {
   "display_name": "Python [default]",
   "language": "python",
   "name": "python3"
  },
  "language_info": {
   "codemirror_mode": {
    "name": "ipython",
    "version": 3
   },
   "file_extension": ".py",
   "mimetype": "text/x-python",
   "name": "python",
   "nbconvert_exporter": "python",
   "pygments_lexer": "ipython3",
   "version": "3.5.2"
  }
 },
 "nbformat": 4,
 "nbformat_minor": 2
}
